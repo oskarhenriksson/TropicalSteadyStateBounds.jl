{
 "cells": [
  {
   "cell_type": "markdown",
   "metadata": {},
   "source": [
    "# Examples"
   ]
  },
  {
   "cell_type": "code",
   "execution_count": 1,
   "metadata": {},
   "outputs": [
    {
     "name": "stdout",
     "output_type": "stream",
     "text": [
      "\r"
     ]
    }
   ],
   "source": [
    "include(\"src/TropicalBounds.jl\");"
   ]
  },
  {
   "cell_type": "markdown",
   "metadata": {},
   "source": [
    "## Running example"
   ]
  },
  {
   "cell_type": "code",
   "execution_count": 2,
   "metadata": {},
   "outputs": [
    {
     "data": {
      "text/latex": [
       "$$ \\begin{align*}\n",
       "\\mathrm{\\mathtt{X1}} &\\xrightleftharpoons[\\mathtt{k2}]{\\mathtt{k1}} \\mathrm{\\mathtt{X2}} \\\\\n",
       "2 \\mathrm{\\mathtt{X1}} + \\mathrm{\\mathtt{X2}} &\\xrightarrow{\\mathtt{k3}} 3 \\mathrm{\\mathtt{X1}}  \n",
       " \\end{align*}\n",
       " $$"
      ],
      "text/plain": [
       "\u001b[0m\u001b[1mModel ##ReactionSystem#235:\u001b[22m\n",
       "\u001b[0m\u001b[1mUnknowns (2):\u001b[22m see unknowns(##ReactionSystem#235)\n",
       "  X1(t)\n",
       "  X2(t)\n",
       "\u001b[0m\u001b[1mParameters (3):\u001b[22m see parameters(##ReactionSystem#235)\n",
       "  k1\n",
       "  k2\n",
       "  k3"
      ]
     },
     "metadata": {},
     "output_type": "display_data"
    }
   ],
   "source": [
    "rn = @reaction_network begin\n",
    "    k1, X1 --> X2\n",
    "    k2, X2 --> X1\n",
    "    k3, 2*X1 + X2 --> 3*X1\n",
    "end"
   ]
  },
  {
   "cell_type": "code",
   "execution_count": 3,
   "metadata": {},
   "outputs": [
    {
     "data": {
      "text/plain": [
       "([1 -1 -1], [1 0 2; 0 1 1], [1 1])"
      ]
     },
     "metadata": {},
     "output_type": "display_data"
    }
   ],
   "source": [
    "# The defining matrices for the steady state system\n",
    "C, M, L = augmented_vertical_system(rn)"
   ]
  },
  {
   "cell_type": "code",
   "execution_count": 4,
   "metadata": {},
   "outputs": [
    {
     "name": "stdout",
     "output_type": "stream",
     "text": [
      "  7.737386 seconds (26.71 M allocations: 1.319 GiB, 3.14% gc time, 99.64% compilation time)\n"
     ]
    },
    {
     "data": {
      "text/plain": [
       "3"
      ]
     },
     "metadata": {},
     "output_type": "display_data"
    }
   ],
   "source": [
    "# Compute the steady state degree directy from the network\n",
    "@time sd = steady_state_degree(rn)"
   ]
  },
  {
   "cell_type": "code",
   "execution_count": 5,
   "metadata": {},
   "outputs": [
    {
     "name": "stdout",
     "output_type": "stream",
     "text": [
      "  2.183410 seconds (6.90 M allocations: 353.931 MiB, 2.14% gc time, 98.01% compilation time)\n"
     ]
    },
    {
     "data": {
      "text/plain": [
       "3"
      ]
     },
     "metadata": {},
     "output_type": "display_data"
    }
   ],
   "source": [
    "# Without the transversality check\n",
    "@time sd = steady_state_degree(rn, check_transversality=false)"
   ]
  },
  {
   "cell_type": "code",
   "execution_count": 6,
   "metadata": {},
   "outputs": [
    {
     "name": "stdout",
     "output_type": "stream",
     "text": [
      "  0.014286 seconds (1.26 k allocations: 46.508 KiB)\n"
     ]
    },
    {
     "data": {
      "text/plain": [
       "3"
      ]
     },
     "metadata": {},
     "output_type": "display_data"
    }
   ],
   "source": [
    "# Generic root count of the steady state system\n",
    "@time generic_root_count(C, M, L)"
   ]
  },
  {
   "cell_type": "code",
   "execution_count": 7,
   "metadata": {},
   "outputs": [
    {
     "name": "stdout",
     "output_type": "stream",
     "text": [
      "  0.019752 seconds (17.95 k allocations: 451.727 KiB)\n"
     ]
    },
    {
     "data": {
      "text/plain": [
       "3"
      ]
     },
     "metadata": {},
     "output_type": "display_data"
    }
   ],
   "source": [
    "# Without the transversality check\n",
    "@time generic_root_count(C, M, L, check_transversality=false)"
   ]
  },
  {
   "cell_type": "code",
   "execution_count": 8,
   "metadata": {},
   "outputs": [
    {
     "name": "stdout",
     "output_type": "stream",
     "text": [
      "\u001b[32mTrying parameter values... 100%|██████████████████████████████| Time: 0:00:13\u001b[39m\u001b[K\n",
      " 17.097072 seconds (61.10 M allocations: 3.024 GiB, 5.23% gc time, 98.73% compilation time: <1% of which was recompilation)\n"
     ]
    },
    {
     "data": {
      "text/plain": [
       "(3, QQFieldElem[879], [800, 929, 756])"
      ]
     },
     "metadata": {},
     "output_type": "display_data"
    }
   ],
   "source": [
    "# Lower bound directly from the network\n",
    "@time bound, b, h = lower_bound_of_maximal_positive_steady_state_count(rn)"
   ]
  },
  {
   "cell_type": "code",
   "execution_count": 9,
   "metadata": {},
   "outputs": [
    {
     "name": "stdout",
     "output_type": "stream",
     "text": [
      "  0.180065 seconds (1.22 M allocations: 51.179 MiB)\n"
     ]
    },
    {
     "data": {
      "text/plain": [
       "(3, QQFieldElem[591], [368, 765, 94])"
      ]
     },
     "metadata": {},
     "output_type": "display_data"
    }
   ],
   "source": [
    "# Lower bound from the system\n",
    "@time bound, b, h = lower_bound_of_maximal_positive_root_count(C, M, L)"
   ]
  },
  {
   "cell_type": "code",
   "execution_count": 10,
   "metadata": {},
   "outputs": [
    {
     "data": {
      "text/plain": [
       "3"
      ]
     },
     "metadata": {},
     "output_type": "display_data"
    }
   ],
   "source": [
    "# Vertify the result for a given choice of b and h\n",
    "h = [37,97,18]\n",
    "b = [71]\n",
    "lower_bound_of_maximal_positive_root_count_fixed_b_h(C, M, L, b, h)"
   ]
  },
  {
   "cell_type": "markdown",
   "metadata": {},
   "source": [
    "## Cell cycle"
   ]
  },
  {
   "cell_type": "code",
   "execution_count": 11,
   "metadata": {},
   "outputs": [
    {
     "data": {
      "text/latex": [
       "$$ \\begin{align*}\n",
       "\\mathrm{C} + \\mathrm{\\mathtt{Mp}} &\\xrightarrow{\\mathtt{k1}} \\mathrm{C} + \\mathrm{M} \\\\\n",
       "\\mathrm{\\mathtt{Cp}} + \\mathrm{M} &\\xrightarrow{\\mathtt{k2}} \\mathrm{C} + \\mathrm{M} \\\\\n",
       "\\mathrm{M} + \\mathrm{W} &\\xrightarrow{\\mathtt{k3}} \\mathrm{\\mathtt{Mp}} + \\mathrm{W} \\\\\n",
       "\\mathrm{M} + \\mathrm{W} &\\xrightarrow{\\mathtt{k4}} \\mathrm{M} + \\mathrm{\\mathtt{Wp}} \\\\\n",
       "\\mathrm{C} &\\xrightarrow{\\mathtt{k5}} \\mathrm{\\mathtt{Cp}} \\\\\n",
       "\\mathrm{\\mathtt{Wp}} &\\xrightarrow{\\mathtt{k6}} \\mathrm{W}  \n",
       " \\end{align*}\n",
       " $$"
      ],
      "text/plain": [
       "\u001b[0m\u001b[1mModel ##ReactionSystem#243:\u001b[22m\n",
       "\u001b[0m\u001b[1mUnknowns (6):\u001b[22m see unknowns(##ReactionSystem#243)\n",
       "  C(t)\n",
       "  Mp(t)\n",
       "  M(t)\n",
       "  Cp(t)\n",
       "\u001b[0m  ⋮\n",
       "\u001b[0m\u001b[1mParameters (6):\u001b[22m see parameters(##ReactionSystem#243)\n",
       "  k1\n",
       "  k2\n",
       "  k3\n",
       "  k4\n",
       "\u001b[0m  ⋮"
      ]
     },
     "metadata": {},
     "output_type": "display_data"
    }
   ],
   "source": [
    "rn = @reaction_network begin\n",
    "    k1, C + Mp --> C + M\n",
    "    k2, Cp + M --> C + M\n",
    "    k3, M + W --> Mp + W\n",
    "    k4, M + W --> M + Wp\n",
    "    k5, C --> Cp\n",
    "    k6, Wp --> W\n",
    "end"
   ]
  },
  {
   "cell_type": "code",
   "execution_count": 12,
   "metadata": {},
   "outputs": [
    {
     "name": "stdout",
     "output_type": "stream",
     "text": [
      "  0.056123 seconds (54.46 k allocations: 2.718 MiB, 69.47% compilation time)\n"
     ]
    },
    {
     "data": {
      "text/plain": [
       "2"
      ]
     },
     "metadata": {},
     "output_type": "display_data"
    }
   ],
   "source": [
    "@time sd = steady_state_degree(rn)"
   ]
  },
  {
   "cell_type": "code",
   "execution_count": 13,
   "metadata": {},
   "outputs": [
    {
     "name": "stdout",
     "output_type": "stream",
     "text": [
      "\u001b[32mTrying parameter values... 100%|██████████████████████████████| Time: 0:00:11\u001b[39m\u001b[K\n",
      " 11.951797 seconds (70.42 M allocations: 3.219 GiB, 9.89% gc time, 4.45% compilation time)\n"
     ]
    },
    {
     "data": {
      "text/plain": [
       "(2, QQFieldElem[1550, 914, 1265], [150, 510, 185, 78, 473, 225])"
      ]
     },
     "metadata": {},
     "output_type": "display_data"
    }
   ],
   "source": [
    "@time bound, b, h = lower_bound_of_maximal_positive_steady_state_count(rn)"
   ]
  },
  {
   "cell_type": "code",
   "execution_count": 14,
   "metadata": {},
   "outputs": [
    {
     "data": {
      "text/plain": [
       "2"
      ]
     },
     "metadata": {},
     "output_type": "display_data"
    }
   ],
   "source": [
    "# Verify the result for a given choice of b and h\n",
    "C, M, L = augmented_vertical_system(rn)\n",
    "h = [12, 86, 11, 27, 84, 98]\n",
    "b =  [69, 42, 81]\n",
    "lower_bound_of_maximal_positive_root_count_fixed_b_h(C, M, L, b, h)"
   ]
  },
  {
   "cell_type": "markdown",
   "metadata": {},
   "source": [
    "## The HHK network"
   ]
  },
  {
   "cell_type": "code",
   "execution_count": 15,
   "metadata": {},
   "outputs": [
    {
     "data": {
      "text/latex": [
       "$$ \\begin{align*}\n",
       "\\mathrm{\\mathtt{HK00}} &\\xrightarrow{\\mathtt{k1}} \\mathrm{\\mathtt{HKp0}} \\\\\n",
       "\\mathrm{\\mathtt{HKp0}} &\\xrightarrow{\\mathtt{k2}} \\mathrm{\\mathtt{HK0p}} \\\\\n",
       "\\mathrm{\\mathtt{HK0p}} &\\xrightarrow{\\mathtt{k3}} \\mathrm{\\mathtt{HKpp}} \\\\\n",
       "\\mathrm{\\mathtt{HK0p}} + \\mathrm{\\mathtt{Hpt}} &\\xrightarrow{\\mathtt{k4}} \\mathrm{\\mathtt{HK00}} + \\mathrm{\\mathtt{Hptp}} \\\\\n",
       "\\mathrm{\\mathtt{HKpp}} + \\mathrm{\\mathtt{Hpt}} &\\xrightarrow{\\mathtt{k5}} \\mathrm{\\mathtt{HKp0}} + \\mathrm{\\mathtt{Hptp}} \\\\\n",
       "\\mathrm{\\mathtt{Hptp}} &\\xrightarrow{\\mathtt{k6}} \\mathrm{\\mathtt{Hpt}}  \n",
       " \\end{align*}\n",
       " $$"
      ],
      "text/plain": [
       "\u001b[0m\u001b[1mModel ##ReactionSystem#249:\u001b[22m\n",
       "\u001b[0m\u001b[1mUnknowns (6):\u001b[22m see unknowns(##ReactionSystem#249)\n",
       "  HK00(t)\n",
       "  HKp0(t)\n",
       "  HK0p(t)\n",
       "  HKpp(t)\n",
       "\u001b[0m  ⋮\n",
       "\u001b[0m\u001b[1mParameters (6):\u001b[22m see parameters(##ReactionSystem#249)\n",
       "  k1\n",
       "  k2\n",
       "  k3\n",
       "  k4\n",
       "\u001b[0m  ⋮"
      ]
     },
     "metadata": {},
     "output_type": "display_data"
    }
   ],
   "source": [
    "rn = @reaction_network begin\n",
    "    k1, HK00 --> HKp0\n",
    "    k2, HKp0 -->  HK0p\n",
    "    k3, HK0p --> HKpp  \n",
    "    k4, HK0p  + Hpt --> HK00 + Hptp\n",
    "    k5, HKpp  + Hpt --> HKp0 + Hptp\n",
    "    k6, Hptp  --> Hpt\n",
    "end"
   ]
  },
  {
   "cell_type": "code",
   "execution_count": 16,
   "metadata": {},
   "outputs": [
    {
     "name": "stdout",
     "output_type": "stream",
     "text": [
      "  0.050000 seconds (132.74 k allocations: 7.129 MiB, 66.82% compilation time: 6% of which was recompilation)\n"
     ]
    },
    {
     "data": {
      "text/plain": [
       "3"
      ]
     },
     "metadata": {},
     "output_type": "display_data"
    }
   ],
   "source": [
    "@time steady_state_degree(rn)"
   ]
  },
  {
   "cell_type": "code",
   "execution_count": 17,
   "metadata": {},
   "outputs": [
    {
     "name": "stdout",
     "output_type": "stream",
     "text": [
      "\u001b[32mTrying parameter values... 100%|██████████████████████████████| Time: 0:00:02\u001b[39m\u001b[K\n",
      "  2.121866 seconds (16.06 M allocations: 788.545 MiB, 11.11% gc time)\n"
     ]
    },
    {
     "data": {
      "text/plain": [
       "(3, QQFieldElem[1124, 117], [757, 687, 546, 493, 330, 735])"
      ]
     },
     "metadata": {},
     "output_type": "display_data"
    }
   ],
   "source": [
    "@time bound, b, h = lower_bound_of_maximal_positive_steady_state_count(rn)"
   ]
  },
  {
   "cell_type": "code",
   "execution_count": 18,
   "metadata": {},
   "outputs": [
    {
     "data": {
      "text/plain": [
       "3"
      ]
     },
     "metadata": {},
     "output_type": "display_data"
    }
   ],
   "source": [
    "# Verify the result for a given choice of b and h\n",
    "C, M, L = augmented_vertical_system(rn)\n",
    "h = [84, 46, 30, 13, 23, 68]\n",
    "b =   [59, 34]\n",
    "lower_bound_of_maximal_positive_root_count_fixed_b_h(C, M, L, b, h)"
   ]
  },
  {
   "cell_type": "markdown",
   "metadata": {},
   "source": [
    "## 1-site phosphorylation\n"
   ]
  },
  {
   "cell_type": "code",
   "execution_count": 19,
   "metadata": {},
   "outputs": [
    {
     "data": {
      "text/latex": [
       "$$ \\begin{align*}\n",
       "\\mathrm{\\mathtt{S0}} + \\mathrm{E} &\\xrightleftharpoons[\\mathtt{k2}]{\\mathtt{k1}} \\mathrm{\\mathtt{ES0}} \\\\\n",
       "\\mathrm{\\mathtt{ES0}} &\\xrightarrow{\\mathtt{k3}} \\mathrm{\\mathtt{S1}} + \\mathrm{E} \\\\\n",
       "\\mathrm{\\mathtt{S1}} + \\mathrm{F} &\\xrightleftharpoons[\\mathtt{k5}]{\\mathtt{k4}} \\mathrm{\\mathtt{FS1}} \\\\\n",
       "\\mathrm{\\mathtt{FS1}} &\\xrightarrow{\\mathtt{k6}} \\mathrm{\\mathtt{S0}} + \\mathrm{F}  \n",
       " \\end{align*}\n",
       " $$"
      ],
      "text/plain": [
       "\u001b[0m\u001b[1mModel ##ReactionSystem#255:\u001b[22m\n",
       "\u001b[0m\u001b[1mUnknowns (6):\u001b[22m see unknowns(##ReactionSystem#255)\n",
       "  S0(t)\n",
       "  E(t)\n",
       "  ES0(t)\n",
       "  S1(t)\n",
       "\u001b[0m  ⋮\n",
       "\u001b[0m\u001b[1mParameters (6):\u001b[22m see parameters(##ReactionSystem#255)\n",
       "  k1\n",
       "  k2\n",
       "  k3\n",
       "  k4\n",
       "\u001b[0m  ⋮"
      ]
     },
     "metadata": {},
     "output_type": "display_data"
    }
   ],
   "source": [
    "rn = @reaction_network begin\n",
    "  k1, S0 + E --> ES0\n",
    "  k2, ES0  --> S0 + E\n",
    "  k3, ES0  --> S1+E\n",
    "  k4, S1 + F  --> FS1\n",
    "  k5, FS1  --> S1 + F\n",
    "  k6, FS1 --> S0 + F\n",
    "end"
   ]
  },
  {
   "cell_type": "code",
   "execution_count": 20,
   "metadata": {},
   "outputs": [
    {
     "name": "stdout",
     "output_type": "stream",
     "text": [
      "  0.055883 seconds (107.07 k allocations: 5.494 MiB, 70.80% compilation time)\n"
     ]
    },
    {
     "data": {
      "text/plain": [
       "3"
      ]
     },
     "metadata": {},
     "output_type": "display_data"
    }
   ],
   "source": [
    "@time steady_state_degree(rn)"
   ]
  },
  {
   "cell_type": "code",
   "execution_count": 21,
   "metadata": {},
   "outputs": [
    {
     "name": "stdout",
     "output_type": "stream",
     "text": [
      "\u001b[32mTrying parameter values... 100%|██████████████████████████████| Time: 0:00:05\u001b[39m\u001b[K\n",
      "  5.378722 seconds (38.71 M allocations: 1.912 GiB, 10.48% gc time)\n"
     ]
    },
    {
     "data": {
      "text/plain": [
       "(1, QQFieldElem[1844, 1182, 694], [975, 588, 249, 369, 476, 961])"
      ]
     },
     "metadata": {},
     "output_type": "display_data"
    }
   ],
   "source": [
    "@time lower_bound_of_maximal_positive_steady_state_count(rn)"
   ]
  },
  {
   "cell_type": "code",
   "execution_count": 22,
   "metadata": {},
   "outputs": [
    {
     "data": {
      "text/plain": [
       "1"
      ]
     },
     "metadata": {},
     "output_type": "display_data"
    }
   ],
   "source": [
    "# Verify the result for a given choice of b and h\n",
    "C, M, L = augmented_vertical_system(rn)\n",
    "h =  [79, 26, 89, 92, 34, 83]\n",
    "b =     [68, 52, 99]\n",
    "lower_bound_of_maximal_positive_root_count_fixed_b_h(C, M, L, b, h)"
   ]
  },
  {
   "cell_type": "markdown",
   "metadata": {},
   "source": [
    "## 2-site phosphorylation"
   ]
  },
  {
   "cell_type": "code",
   "execution_count": 23,
   "metadata": {},
   "outputs": [
    {
     "data": {
      "text/latex": [
       "$$ \\begin{align*}\n",
       "\\mathrm{\\mathtt{S0}} + \\mathrm{E} &\\xrightleftharpoons[\\mathtt{k2}]{\\mathtt{k1}} \\mathrm{\\mathtt{ES0}} \\\\\n",
       "\\mathrm{\\mathtt{ES0}} &\\xrightarrow{\\mathtt{k3}} \\mathrm{\\mathtt{S1}} + \\mathrm{E} \\\\\n",
       "\\mathrm{\\mathtt{S1}} + \\mathrm{F} &\\xrightleftharpoons[\\mathtt{k5}]{\\mathtt{k4}} \\mathrm{\\mathtt{FS1}} \\\\\n",
       "\\mathrm{\\mathtt{FS1}} &\\xrightarrow{\\mathtt{k6}} \\mathrm{\\mathtt{S0}} + \\mathrm{F} \\\\\n",
       "\\mathrm{\\mathtt{S1}} + \\mathrm{E} &\\xrightleftharpoons[\\mathtt{k8}]{\\mathtt{k7}} \\mathrm{\\mathtt{ES1}} \\\\\n",
       "\\mathrm{\\mathtt{ES1}} &\\xrightarrow{\\mathtt{k9}} \\mathrm{\\mathtt{S2}} + \\mathrm{E} \\\\\n",
       "\\mathrm{\\mathtt{S2}} + \\mathrm{F} &\\xrightleftharpoons[\\mathtt{k11}]{\\mathtt{k10}} \\mathrm{\\mathtt{FS2}} \\\\\n",
       "\\mathrm{\\mathtt{FS2}} &\\xrightarrow{\\mathtt{k12}} \\mathrm{\\mathtt{S1}} + \\mathrm{F}  \n",
       " \\end{align*}\n",
       " $$"
      ],
      "text/plain": [
       "\u001b[0m\u001b[1mModel ##ReactionSystem#261:\u001b[22m\n",
       "\u001b[0m\u001b[1mUnknowns (9):\u001b[22m see unknowns(##ReactionSystem#261)\n",
       "  E(t)\n",
       "  F(t)\n",
       "  S0(t)\n",
       "  S1(t)\n",
       "\u001b[0m  ⋮\n",
       "\u001b[0m\u001b[1mParameters (12):\u001b[22m see parameters(##ReactionSystem#261)\n",
       "  k1\n",
       "  k2\n",
       "  k3\n",
       "  k4\n",
       "\u001b[0m  ⋮"
      ]
     },
     "metadata": {},
     "output_type": "display_data"
    }
   ],
   "source": [
    "rn = @reaction_network begin\n",
    "    @parameters k1 k2 k3 k4 k5 k6 k7 k8 k9 k10 k11 k12\n",
    "    @species E(t) F(t)  S0(t) S1(t) ES0(t) FS1(t) S2(t) ES1(t) FS2(t)\n",
    "  k1, S0 + E --> ES0\n",
    "  k2, ES0  --> S0 + E\n",
    "  k3, ES0  --> S1+E\n",
    "  k4, S1 + F  --> FS1\n",
    "  k5, FS1  --> S1 + F\n",
    "  k6, FS1 --> S0 + F\n",
    "  k7, S1 + E --> ES1\n",
    "  k8, ES1 --> S1 + E\n",
    "  k9, ES1 --> S2 + E\n",
    "  k10, S2 + F  -->FS2\n",
    "  k11, FS2 --> S2 + F\n",
    "  k12, FS2 --> S1 + F\n",
    "end "
   ]
  },
  {
   "cell_type": "code",
   "execution_count": 24,
   "metadata": {},
   "outputs": [
    {
     "name": "stdout",
     "output_type": "stream",
     "text": [
      "  0.108558 seconds (239.13 k allocations: 12.888 MiB, 67.09% compilation time)\n"
     ]
    },
    {
     "data": {
      "text/plain": [
       "5"
      ]
     },
     "metadata": {},
     "output_type": "display_data"
    }
   ],
   "source": [
    "@time steady_state_degree(rn)"
   ]
  }
 ],
 "metadata": {
  "kernelspec": {
   "display_name": "Julia 1.11.5",
   "language": "julia",
   "name": "julia-1.11"
  },
  "language_info": {
   "file_extension": ".jl",
   "mimetype": "application/julia",
   "name": "julia",
   "version": "1.11.5"
  }
 },
 "nbformat": 4,
 "nbformat_minor": 2
}
